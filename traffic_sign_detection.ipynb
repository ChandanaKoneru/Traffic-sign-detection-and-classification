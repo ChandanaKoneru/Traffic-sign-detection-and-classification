{
  "nbformat": 4,
  "nbformat_minor": 0,
  "metadata": {
    "colab": {
      "name": "traffic sign detection",
      "provenance": [],
      "collapsed_sections": []
    },
    "kernelspec": {
      "display_name": "Python 3",
      "name": "python3"
    },
    "accelerator": "GPU"
  },
  "cells": [
    {
      "cell_type": "code",
      "metadata": {
        "id": "Ov_X8DKYUzXa",
        "colab_type": "code",
        "colab": {}
      },
      "source": [
        "from google.colab import drive\n",
        "drive.mount('/content/gdrive')"
      ],
      "execution_count": 0,
      "outputs": []
    },
    {
      "cell_type": "code",
      "metadata": {
        "id": "4u4-y1coVO9d",
        "colab_type": "code",
        "colab": {}
      },
      "source": [
        "from google.colab import files\n",
        "files.upload()"
      ],
      "execution_count": 0,
      "outputs": []
    },
    {
      "cell_type": "code",
      "metadata": {
        "id": "othziStuVZgm",
        "colab_type": "code",
        "colab": {}
      },
      "source": [
        "! mkdir ~/.kaggle\n",
        "! cp kaggle.json ~/.kaggle/\n",
        "! chmod 600 ~/.kaggle/kaggle.json\n",
        "!kaggle datasets download -d meowmeowmeowmeowmeow/gtsrb-german-traffic-sign -p /content"
      ],
      "execution_count": 0,
      "outputs": []
    },
    {
      "cell_type": "code",
      "metadata": {
        "id": "hnOBbbd7VEaP",
        "colab_type": "code",
        "colab": {}
      },
      "source": [
        "!pip install kaggle"
      ],
      "execution_count": 0,
      "outputs": []
    },
    {
      "cell_type": "code",
      "metadata": {
        "id": "X_YDNjeDVTMO",
        "colab_type": "code",
        "colab": {}
      },
      "source": [
        "!unzip \\*.zip"
      ],
      "execution_count": 0,
      "outputs": []
    },
    {
      "cell_type": "code",
      "metadata": {
        "id": "XZ0j6A7KQw8M",
        "colab_type": "code",
        "colab": {}
      },
      "source": [
        "import numpy as np \n",
        "import pandas as pd \n",
        "import matplotlib.pyplot as plt\n",
        "import tensorflow as tf\n",
        "import cv2\n",
        "from PIL import Image\n",
        "import os"
      ],
      "execution_count": 0,
      "outputs": []
    },
    {
      "cell_type": "code",
      "metadata": {
        "id": "V_bnRF_URsXl",
        "colab_type": "code",
        "colab": {}
      },
      "source": [
        "# Reading the input images \n",
        "data=[]\n",
        "labels=[]\n",
        "\n",
        "height = 30\n",
        "width = 30\n",
        "channels = 3\n",
        "classes = 43\n",
        "n_inputs = height * width*channels\n",
        "\n",
        "for i in range(classes) :\n",
        "    path = \"/content/train/{0}/\".format(i)\n",
        "    Class=os.listdir(path)\n",
        "    for a in Class:\n",
        "        try:\n",
        "            image=cv2.imread(path+a)\n",
        "            image_from_array = Image.fromarray(image, 'RGB')\n",
        "            size_image = image_from_array.resize((height, width))\n",
        "            data.append(np.array(size_image))\n",
        "            labels.append(i)\n",
        "        except AttributeError:\n",
        "            print(\" \")\n",
        "\n",
        "            \n",
        "Cells=np.array(data)\n",
        "labels=np.array(labels)\n",
        "\n",
        "#Randomize the order of the input images\n",
        "s=np.arange(Cells.shape[0])\n",
        "np.random.seed(43)\n",
        "np.random.shuffle(s)\n",
        "Cells=Cells[s]\n",
        "labels=labels[s]"
      ],
      "execution_count": 0,
      "outputs": []
    },
    {
      "cell_type": "code",
      "metadata": {
        "id": "IqddD0R1R19c",
        "colab_type": "code",
        "outputId": "b94b9891-c4be-4e06-9a84-ccacaa269800",
        "colab": {
          "base_uri": "https://localhost:8080/",
          "height": 34
        }
      },
      "source": [
        "(X_train,X_val)=Cells[(int)(0.2*len(labels)):],Cells[:(int)(0.2*len(labels))]\n",
        "X_train = X_train.astype('float32')/255 \n",
        "X_val = X_val.astype('float32')/255\n",
        "(y_train,y_val)=labels[(int)(0.2*len(labels)):],labels[:(int)(0.2*len(labels))]\n",
        "\n",
        "#Using one hot encoding for the train and validation labels\n",
        "from keras.utils import to_categorical\n",
        "y_train = to_categorical(y_train, 43)\n",
        "y_val = to_categorical(y_val, 43)"
      ],
      "execution_count": 0,
      "outputs": [
        {
          "output_type": "stream",
          "text": [
            "Using TensorFlow backend.\n"
          ],
          "name": "stderr"
        }
      ]
    },
    {
      "cell_type": "code",
      "metadata": {
        "id": "sapVREjGSE53",
        "colab_type": "code",
        "colab": {}
      },
      "source": [
        "from keras.models import Sequential\n",
        "from keras.layers import Conv2D, MaxPool2D, Dense, Flatten, Dropout\n",
        "\n",
        "model = Sequential()\n",
        "model.add(Conv2D(filters=32, kernel_size=(5,5), activation='relu', input_shape=X_train.shape[1:]))\n",
        "model.add(Conv2D(filters=64, kernel_size=(3, 3), activation='relu'))\n",
        "model.add(MaxPool2D(pool_size=(2, 2)))\n",
        "model.add(Dropout(rate=0.25))\n",
        "model.add(Conv2D(filters=64, kernel_size=(3, 3), activation='relu'))\n",
        "model.add(MaxPool2D(pool_size=(2, 2)))\n",
        "model.add(Dropout(rate=0.25))\n",
        "model.add(Flatten())\n",
        "model.add(Dense(256, activation='relu'))\n",
        "model.add(Dropout(rate=0.5))\n",
        "model.add(Dense(43, activation='softmax'))\n",
        "model.compile(\n",
        "    loss='categorical_crossentropy', \n",
        "    optimizer='adam', \n",
        "    metrics=['accuracy']\n",
        ")"
      ],
      "execution_count": 0,
      "outputs": []
    },
    {
      "cell_type": "code",
      "metadata": {
        "id": "Wfk37WteSPhL",
        "colab_type": "code",
        "colab": {}
      },
      "source": [
        "#using 20 epochs \n",
        "epochs = 20\n",
        "history = model.fit(X_train, y_train, batch_size=32, epochs=epochs,\n",
        "validation_data=(X_val, y_val))\n"
      ],
      "execution_count": 0,
      "outputs": []
    },
    {
      "cell_type": "code",
      "metadata": {
        "id": "-R8tQ_GfSUqW",
        "colab_type": "code",
        "colab": {}
      },
      "source": [
        "#Predicting with the test data\n",
        "y_test=pd.read_csv(\"/content/Test.csv\")\n",
        "labels=y_test['Path'].to_numpy()\n",
        "y_test=y_test['ClassId'].values\n",
        "\n",
        "data=[]\n",
        "\n",
        "for f in labels:\n",
        "    image=cv2.imread('/content/test/'+f.replace('Test/', ''))\n",
        "    image_from_array = Image.fromarray(image, 'RGB')\n",
        "    size_image = image_from_array.resize((height, width))\n",
        "    data.append(np.array(size_image))\n",
        "\n",
        "X_test=np.array(data)\n",
        "X_test = X_test.astype('float32')/255 \n",
        "pred = model.predict_classes(X_test)"
      ],
      "execution_count": 0,
      "outputs": []
    },
    {
      "cell_type": "code",
      "metadata": {
        "id": "RDUK5CKBTwAI",
        "colab_type": "code",
        "outputId": "cdeac60a-9b63-4ce1-f4ce-652e546f8a88",
        "colab": {
          "base_uri": "https://localhost:8080/",
          "height": 34
        }
      },
      "source": [
        "from sklearn.metrics import accuracy_score\n",
        "accuracy_score(y_test, pred)"
      ],
      "execution_count": 0,
      "outputs": [
        {
          "output_type": "execute_result",
          "data": {
            "text/plain": [
              "0.9745051464766429"
            ]
          },
          "metadata": {
            "tags": []
          },
          "execution_count": 12
        }
      ]
    },
    {
      "cell_type": "code",
      "metadata": {
        "id": "hOCnst-hakDc",
        "colab_type": "code",
        "colab": {}
      },
      "source": [
        ""
      ],
      "execution_count": 0,
      "outputs": []
    }
  ]
}