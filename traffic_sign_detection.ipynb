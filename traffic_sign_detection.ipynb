{
  "nbformat": 4,
  "nbformat_minor": 0,
  "metadata": {
    "colab": {
      "name": "traffic_sign_detection.ipynb",
      "provenance": [],
      "collapsed_sections": []
    },
    "kernelspec": {
      "display_name": "Python 3",
      "name": "python3"
    },
    "accelerator": "GPU"
  },
  "cells": [
    {
      "cell_type": "code",
      "metadata": {
        "id": "Ov_X8DKYUzXa",
        "colab_type": "code",
        "colab": {}
      },
      "source": [
        "from google.colab import drive\n",
        "drive.mount('/content/gdrive')"
      ],
      "execution_count": 0,
      "outputs": []
    },
    {
      "cell_type": "code",
      "metadata": {
        "id": "4u4-y1coVO9d",
        "colab_type": "code",
        "colab": {}
      },
      "source": [
        "from google.colab import files\n",
        "files.upload()"
      ],
      "execution_count": 0,
      "outputs": []
    },
    {
      "cell_type": "code",
      "metadata": {
        "id": "othziStuVZgm",
        "colab_type": "code",
        "outputId": "1392a013-887f-468f-c345-dec6f9d3a7fe",
        "colab": {
          "base_uri": "https://localhost:8080/",
          "height": 68
        }
      },
      "source": [
        "! mkdir ~/.kaggle\n",
        "! cp kaggle.json ~/.kaggle/\n",
        "! chmod 600 ~/.kaggle/kaggle.json\n",
        "!kaggle datasets download -d meowmeowmeowmeowmeow/gtsrb-german-traffic-sign -p /content"
      ],
      "execution_count": 4,
      "outputs": [
        {
          "output_type": "stream",
          "text": [
            "Downloading gtsrb-german-traffic-sign.zip to /content\n",
            "100% 611M/612M [00:07<00:00, 82.9MB/s]\n",
            "100% 612M/612M [00:07<00:00, 81.2MB/s]\n"
          ],
          "name": "stdout"
        }
      ]
    },
    {
      "cell_type": "code",
      "metadata": {
        "id": "hnOBbbd7VEaP",
        "colab_type": "code",
        "colab": {}
      },
      "source": [
        "!pip install kaggle"
      ],
      "execution_count": 0,
      "outputs": []
    },
    {
      "cell_type": "code",
      "metadata": {
        "id": "X_YDNjeDVTMO",
        "colab_type": "code",
        "colab": {}
      },
      "source": [
        "!unzip \\*.zip"
      ],
      "execution_count": 0,
      "outputs": []
    },
    {
      "cell_type": "code",
      "metadata": {
        "id": "XZ0j6A7KQw8M",
        "colab_type": "code",
        "colab": {}
      },
      "source": [
        "import numpy as np \n",
        "import pandas as pd \n",
        "import matplotlib.pyplot as plt\n",
        "import tensorflow as tf\n",
        "import cv2\n",
        "from PIL import Image\n",
        "import os"
      ],
      "execution_count": 0,
      "outputs": []
    },
    {
      "cell_type": "code",
      "metadata": {
        "id": "V_bnRF_URsXl",
        "colab_type": "code",
        "colab": {}
      },
      "source": [
        "# Reading the input images \n",
        "data=[]\n",
        "labels=[]\n",
        "\n",
        "height = 30\n",
        "width = 30\n",
        "channels = 3\n",
        "classes = 43\n",
        "n_inputs = height * width*channels\n",
        "\n",
        "for i in range(classes) :\n",
        "    path = \"/content/train/{0}/\".format(i)\n",
        "    Class=os.listdir(path)\n",
        "    for a in Class:\n",
        "        try:\n",
        "            image=cv2.imread(path+a)\n",
        "            image_from_array = Image.fromarray(image, 'RGB')\n",
        "            size_image = image_from_array.resize((height, width))\n",
        "            data.append(np.array(size_image))\n",
        "            labels.append(i)\n",
        "        except AttributeError:\n",
        "            print(\" \")\n",
        "\n",
        "            \n",
        "Cells=np.array(data)\n",
        "labels=np.array(labels)\n",
        "\n",
        "#Randomize the order of the input images\n",
        "s=np.arange(Cells.shape[0])\n",
        "np.random.seed(43)\n",
        "np.random.shuffle(s)\n",
        "Cells=Cells[s]\n",
        "labels=labels[s]"
      ],
      "execution_count": 0,
      "outputs": []
    },
    {
      "cell_type": "code",
      "metadata": {
        "id": "IqddD0R1R19c",
        "colab_type": "code",
        "outputId": "f602c8a9-a7b6-43f3-eb2c-928a66512660",
        "colab": {
          "base_uri": "https://localhost:8080/",
          "height": 34
        }
      },
      "source": [
        "(X_train,X_val)=Cells[(int)(0.2*len(labels)):],Cells[:(int)(0.2*len(labels))]\n",
        "X_train = X_train.astype('float32')/255 \n",
        "X_val = X_val.astype('float32')/255\n",
        "(y_train,y_val)=labels[(int)(0.2*len(labels)):],labels[:(int)(0.2*len(labels))]\n",
        "\n",
        "#Using one hot encoding for the train and validation labels\n",
        "from keras.utils import to_categorical\n",
        "y_train = to_categorical(y_train, 43)\n",
        "y_val = to_categorical(y_val, 43)"
      ],
      "execution_count": 8,
      "outputs": [
        {
          "output_type": "stream",
          "text": [
            "Using TensorFlow backend.\n"
          ],
          "name": "stderr"
        }
      ]
    },
    {
      "cell_type": "code",
      "metadata": {
        "id": "sapVREjGSE53",
        "colab_type": "code",
        "colab": {}
      },
      "source": [
        "from keras.models import Sequential\n",
        "from keras.layers import Conv2D, MaxPool2D, Dense, Flatten, Dropout\n",
        "\n",
        "model = Sequential()\n",
        "model.add(Conv2D(filters=32, kernel_size=(5,5), activation='relu', input_shape=X_train.shape[1:]))\n",
        "model.add(Conv2D(filters=64, kernel_size=(3, 3), activation='relu'))\n",
        "model.add(MaxPool2D(pool_size=(2, 2)))\n",
        "model.add(Dropout(rate=0.25))\n",
        "model.add(Conv2D(filters=64, kernel_size=(3, 3), activation='relu'))\n",
        "model.add(MaxPool2D(pool_size=(2, 2)))\n",
        "model.add(Dropout(rate=0.25))\n",
        "model.add(Flatten())\n",
        "model.add(Dense(256, activation='relu'))\n",
        "model.add(Dropout(rate=0.5))\n",
        "model.add(Dense(43, activation='softmax'))\n",
        "model.compile(\n",
        "    loss='categorical_crossentropy', \n",
        "    optimizer='adam', \n",
        "    metrics=['accuracy']\n",
        ")"
      ],
      "execution_count": 0,
      "outputs": []
    },
    {
      "cell_type": "code",
      "metadata": {
        "id": "Wfk37WteSPhL",
        "colab_type": "code",
        "outputId": "098cbdc8-f3f5-4957-870f-abb48c12716b",
        "colab": {
          "base_uri": "https://localhost:8080/",
          "height": 1000
        }
      },
      "source": [
        "#using 20 epochs \n",
        "epochs = 20\n",
        "history = model.fit(X_train, y_train, batch_size=32, epochs=epochs,\n",
        "validation_data=(X_val, y_val))\n",
        "\n",
        "import matplotlib.pyplot as plt\n",
        "\n",
        "plt.figure(0)\n",
        "plt.plot(history.history['accuracy'], label='training accuracy')\n",
        "plt.plot(history.history['val_accuracy'], label='val accuracy')\n",
        "plt.title('Accuracy')\n",
        "plt.xlabel('epochs')\n",
        "plt.ylabel('accuracy')\n",
        "plt.legend()\n",
        "\n",
        "plt.figure(1)\n",
        "plt.plot(history.history['loss'], label='training loss')\n",
        "plt.plot(history.history['val_loss'], label='val loss')\n",
        "plt.title('Loss')\n",
        "plt.xlabel('epochs')\n",
        "plt.ylabel('loss')\n",
        "plt.legend()"
      ],
      "execution_count": 10,
      "outputs": [
        {
          "output_type": "stream",
          "text": [
            "Train on 31368 samples, validate on 7841 samples\n",
            "Epoch 1/20\n",
            "31368/31368 [==============================] - 12s 377us/step - loss: 1.3355 - accuracy: 0.6213 - val_loss: 0.1887 - val_accuracy: 0.9517\n",
            "Epoch 2/20\n",
            "31368/31368 [==============================] - 6s 177us/step - loss: 0.2638 - accuracy: 0.9199 - val_loss: 0.0587 - val_accuracy: 0.9851\n",
            "Epoch 3/20\n",
            "31368/31368 [==============================] - 5s 175us/step - loss: 0.1562 - accuracy: 0.9534 - val_loss: 0.0466 - val_accuracy: 0.9888\n",
            "Epoch 4/20\n",
            "31368/31368 [==============================] - 5s 173us/step - loss: 0.1184 - accuracy: 0.9640 - val_loss: 0.0328 - val_accuracy: 0.9913\n",
            "Epoch 5/20\n",
            "31368/31368 [==============================] - 6s 195us/step - loss: 0.0916 - accuracy: 0.9724 - val_loss: 0.0228 - val_accuracy: 0.9943\n",
            "Epoch 6/20\n",
            "31368/31368 [==============================] - 5s 173us/step - loss: 0.0787 - accuracy: 0.9755 - val_loss: 0.0278 - val_accuracy: 0.9931\n",
            "Epoch 7/20\n",
            "31368/31368 [==============================] - 5s 174us/step - loss: 0.0689 - accuracy: 0.9790 - val_loss: 0.0205 - val_accuracy: 0.9946\n",
            "Epoch 8/20\n",
            "31368/31368 [==============================] - 5s 174us/step - loss: 0.0678 - accuracy: 0.9785 - val_loss: 0.0259 - val_accuracy: 0.9932\n",
            "Epoch 9/20\n",
            "31368/31368 [==============================] - 5s 173us/step - loss: 0.0598 - accuracy: 0.9825 - val_loss: 0.0230 - val_accuracy: 0.9944\n",
            "Epoch 10/20\n",
            "31368/31368 [==============================] - 5s 175us/step - loss: 0.0543 - accuracy: 0.9826 - val_loss: 0.0213 - val_accuracy: 0.9955\n",
            "Epoch 11/20\n",
            "31368/31368 [==============================] - 5s 173us/step - loss: 0.0560 - accuracy: 0.9838 - val_loss: 0.0130 - val_accuracy: 0.9973\n",
            "Epoch 12/20\n",
            "31368/31368 [==============================] - 5s 172us/step - loss: 0.0477 - accuracy: 0.9852 - val_loss: 0.0172 - val_accuracy: 0.9952\n",
            "Epoch 13/20\n",
            "31368/31368 [==============================] - 5s 172us/step - loss: 0.0525 - accuracy: 0.9846 - val_loss: 0.0216 - val_accuracy: 0.9946\n",
            "Epoch 14/20\n",
            "31368/31368 [==============================] - 5s 170us/step - loss: 0.0421 - accuracy: 0.9873 - val_loss: 0.0199 - val_accuracy: 0.9953\n",
            "Epoch 15/20\n",
            "31368/31368 [==============================] - 5s 172us/step - loss: 0.0452 - accuracy: 0.9871 - val_loss: 0.0303 - val_accuracy: 0.9930\n",
            "Epoch 16/20\n",
            "31368/31368 [==============================] - 6s 187us/step - loss: 0.0416 - accuracy: 0.9879 - val_loss: 0.0192 - val_accuracy: 0.9953\n",
            "Epoch 17/20\n",
            "31368/31368 [==============================] - 5s 170us/step - loss: 0.0459 - accuracy: 0.9865 - val_loss: 0.0139 - val_accuracy: 0.9967\n",
            "Epoch 18/20\n",
            "31368/31368 [==============================] - 6s 179us/step - loss: 0.0378 - accuracy: 0.9893 - val_loss: 0.0134 - val_accuracy: 0.9974\n",
            "Epoch 19/20\n",
            "31368/31368 [==============================] - 5s 175us/step - loss: 0.0395 - accuracy: 0.9885 - val_loss: 0.0149 - val_accuracy: 0.9968\n",
            "Epoch 20/20\n",
            "31368/31368 [==============================] - 5s 169us/step - loss: 0.0356 - accuracy: 0.9898 - val_loss: 0.0166 - val_accuracy: 0.9966\n"
          ],
          "name": "stdout"
        },
        {
          "output_type": "execute_result",
          "data": {
            "text/plain": [
              "<matplotlib.legend.Legend at 0x7f11bfeaadd8>"
            ]
          },
          "metadata": {
            "tags": []
          },
          "execution_count": 10
        },
        {
          "output_type": "display_data",
          "data": {
            "image/png": "[encoded data removed]",
            "text/plain": [
              "<Figure size 432x288 with 1 Axes>"
            ]
          },
          "metadata": {
            "tags": [],
            "needs_background": "light"
          }
        },
        {
          "output_type": "display_data",
          "data": {
            "image/png": "[encoded data removed]",
            "text/plain": [
              "<Figure size 432x288 with 1 Axes>"
            ]
          },
          "metadata": {
            "tags": [],
            "needs_background": "light"
          }
        }
      ]
    },
    {
      "cell_type": "code",
      "metadata": {
        "id": "-R8tQ_GfSUqW",
        "colab_type": "code",
        "colab": {}
      },
      "source": [
        "#Predicting with the test data\n",
        "y_test=pd.read_csv(\"/content/Test.csv\")\n",
        "labels=y_test['Path'].to_numpy()\n",
        "y_test=y_test['ClassId'].values\n",
        "\n",
        "data=[]\n",
        "\n",
        "for f in labels:\n",
        "    image=cv2.imread('/content/test/'+f.replace('Test/', ''))\n",
        "    image_from_array = Image.fromarray(image, 'RGB')\n",
        "    size_image = image_from_array.resize((height, width))\n",
        "    data.append(np.array(size_image))\n",
        "\n",
        "X_test=np.array(data)\n",
        "X_test = X_test.astype('float32')/255 \n",
        "pred = model.predict_classes(X_test)"
      ],
      "execution_count": 0,
      "outputs": []
    },
    {
      "cell_type": "code",
      "metadata": {
        "id": "RDUK5CKBTwAI",
        "colab_type": "code",
        "outputId": "d1177787-d1d6-4545-95e5-6a6cbdd292be",
        "colab": {
          "base_uri": "https://localhost:8080/",
          "height": 34
        }
      },
      "source": [
        "from sklearn.metrics import accuracy_score\n",
        "accuracy_score(y_test, pred)"
      ],
      "execution_count": 12,
      "outputs": [
        {
          "output_type": "execute_result",
          "data": {
            "text/plain": [
              "0.9721298495645289"
            ]
          },
          "metadata": {
            "tags": []
          },
          "execution_count": 12
        }
      ]
    },
    {
      "cell_type": "code",
      "metadata": {
        "id": "hOCnst-hakDc",
        "colab_type": "code",
        "outputId": "3e107494-c329-4f25-a8c0-eb03c7177357",
        "colab": {
          "base_uri": "https://localhost:8080/",
          "height": 67
        }
      },
      "source": [
        "from google.colab.patches import cv2_imshow\n",
        "            \n",
        "img=cv2.imread('/content/test/00008.png')\n",
        "cv2_imshow(img)\n",
        "\n"
      ],
      "execution_count": 14,
      "outputs": [
        {
          "output_type": "display_data",
          "data": {
            "image/png": "[encoded data removed]",
            "text/plain": [
              "<PIL.Image.Image image mode=RGB size=45x50 at 0x7F1199EC1668>"
            ]
          },
          "metadata": {
            "tags": []
          }
        }
      ]
    },
    {
      "cell_type": "code",
      "metadata": {
        "id": "E6NwnyiA6HCm",
        "colab_type": "code",
        "colab": {}
      },
      "source": [
        ""
      ],
      "execution_count": 0,
      "outputs": []
    }
  ]
}